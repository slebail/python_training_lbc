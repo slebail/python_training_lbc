{
 "cells": [
  {
   "cell_type": "markdown",
   "id": "23b35092-e68b-45f3-98ce-c8f75e5fb2f2",
   "metadata": {
    "nbgrader": {
     "grade": false,
     "grade_id": "cell-2e7adf4c4594046b",
     "locked": true,
     "schema_version": 3,
     "solution": false,
     "task": false
    }
   },
   "source": [
    "Fondamentaux Python\n",
    "Initiation aux variables et types\n",
    "Contexte et objectif\n",
    "Nous allons introduire dans ce chapitre:\n",
    "\n",
    "Le concept de variable dans Python.\n",
    "Les différents types de variables et leurs caractéristiques.\n",
    "Les manipulations que l'on peut faire avec ces derniers.\n",
    "Nous comparerons cette notion de variable avec les manipulations que l'on peut effectuer sur une feuille de calcul Excel.\n",
    "\n",
    "Les Variables\n",
    "Les variables sont utilisées en informatique pour stocker les données que nous voulons manipuler dans nos programmes.\n",
    "\n",
    "Avec Python, la création et l'assignation d'une valeur à une variable se fait simultanément avec la syntaxe suivante:\n",
    "\n",
    "ma_variable = une_valeur\n",
    "La variable que nous avons créée s'appelle ma_variable et nous lui avons assigné la valeur une_valeur.\n",
    "\n",
    "Une variable peut contenir des types de valeurs différents:\n",
    "\n",
    "# Une valeur entière (c'est-à-dire un nombre entier : int)\n",
    "ma_variable = 9\n",
    "\n",
    "# Une valeur réelle (c'est-à-dire un nombre à virgule : float)\n",
    "ma_variable = 9.345678\n",
    "\n",
    "# Un booléen (c'est-à-dire une variable qui peut prendre la valeur True ou la valeur False : bool)\n",
    "ma_variable = True\n",
    "ma_variable = False\n",
    "\n",
    "# Une chaîne de caractère (c'est-à-dire du texte : str)\n",
    "ma_variable = \"Bonjour\"\n",
    "\n",
    "# Une liste\n",
    "une_liste = [2, 3, 7]\n",
    "Il est tout à fait possible d'effectuer des opérations sur ces variables comme ci-dessous:\n",
    "\n",
    "# Création d'une variable \n",
    "ma_variable = 9\n",
    "mon_autre_variable = ma_variable + 3 \n",
    "À chaque fois que nous utilisons l'opérateur = après une variable, son ancienne valeur est écrasée par la nouvelle valeur que nous voulons lui assigner.\n",
    "\n",
    "Pour afficher la valeur d'une variable, Python dispose de la fonction print:\n",
    "\n",
    "ma_variable = 9 # Création de la variable\n",
    "ma_variable = 10.5 # Changement de la valeur de la variable (la variable ne vaut plus 9 mais 10.5)\n",
    "mon_autre_variable = ma_variable * 3 # Création d'une nouvelle variable qui est égale à ma_variable multipliée par 3\n",
    "\n",
    "# Affichage des variables\n",
    "print(ma_variable)\n",
    "print(mon_autre_variable)\n",
    ">>> 10.5\n",
    ">>> 31.5\n",
    "(a) Créer une variable nommée ma_variable et assignez-lui la valeur 123456789.\n",
    "\n",
    "(b) Créer une variable nommée ma_variable_fois_2 dont la valeur sera le double de la valeur de ma_variable. La multiplication s'effectue avec le caractère *.\n",
    "\n",
    "(c) Afficher les deux variables."
   ]
  },
  {
   "cell_type": "code",
   "execution_count": null,
   "id": "db2a77ea-af7e-48d5-b8fc-195de3fd1fdb",
   "metadata": {},
   "outputs": [],
   "source": []
  },
  {
   "cell_type": "code",
   "execution_count": null,
   "id": "1a341c81-defc-4070-a8ae-502f5fb0fc74",
   "metadata": {
    "nbgrader": {
     "grade": false,
     "grade_id": "cell-1a62877117a30f72",
     "locked": true,
     "schema_version": 3,
     "solution": false,
     "task": false
    }
   },
   "outputs": [],
   "source": [
    "# Création des variables\n",
    "ma_variable = 123456789\n",
    "ma_variable_fois_2 = ma_variable * 2\n",
    "\n",
    "# Affichage des variables\n",
    "print(ma_variable)\n",
    "print(ma_variable_fois_2)"
   ]
  }
 ],
 "metadata": {
  "kernelspec": {
   "display_name": "Python 3 (ipykernel)",
   "language": "python",
   "name": "python3"
  },
  "language_info": {
   "codemirror_mode": {
    "name": "ipython",
    "version": 3
   },
   "file_extension": ".py",
   "mimetype": "text/x-python",
   "name": "python",
   "nbconvert_exporter": "python",
   "pygments_lexer": "ipython3",
   "version": "3.13.2"
  }
 },
 "nbformat": 4,
 "nbformat_minor": 5
}
